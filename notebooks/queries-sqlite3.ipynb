{
 "cells": [
  {
   "attachments": {},
   "cell_type": "markdown",
   "metadata": {},
   "source": [
    "## Queries no Python com a biblioteca SQLite3"
   ]
  },
  {
   "attachments": {},
   "cell_type": "markdown",
   "metadata": {},
   "source": [
    "### Bibliotecas utilizadas"
   ]
  },
  {
   "cell_type": "code",
   "execution_count": 1,
   "metadata": {},
   "outputs": [],
   "source": [
    "import sqlite3"
   ]
  },
  {
   "attachments": {},
   "cell_type": "markdown",
   "metadata": {},
   "source": [
    "### Conexão com a base de dados"
   ]
  },
  {
   "cell_type": "code",
   "execution_count": 2,
   "metadata": {},
   "outputs": [],
   "source": [
    "conn = sqlite3.connect('../data/database.db')\n",
    "c = conn.cursor()"
   ]
  },
  {
   "attachments": {},
   "cell_type": "markdown",
   "metadata": {},
   "source": [
    "### Consultas"
   ]
  },
  {
   "attachments": {},
   "cell_type": "markdown",
   "metadata": {},
   "source": [
    "#### Pergunta 1\n",
    "Qual a quantidade de produtos únicos que foram vendidos?"
   ]
  },
  {
   "cell_type": "code",
   "execution_count": 3,
   "metadata": {},
   "outputs": [
    {
     "name": "stdout",
     "output_type": "stream",
     "text": [
      "(73,)\n"
     ]
    }
   ],
   "source": [
    "c.execute('''  \n",
    "SELECT\n",
    "    COUNT(DISTINCT idProduto) AS qtProdutosUnicosVendidos\n",
    "\n",
    "FROM vendas\n",
    "          ''')\n",
    "\n",
    "for row in c.fetchall():\n",
    "    print (row)"
   ]
  },
  {
   "attachments": {},
   "cell_type": "markdown",
   "metadata": {},
   "source": [
    "#### Pergunta 2\n",
    "Quais os três produtos mais vendidos e as quantidades destes?"
   ]
  },
  {
   "cell_type": "code",
   "execution_count": 4,
   "metadata": {},
   "outputs": [
    {
     "name": "stdout",
     "output_type": "stream",
     "text": [
      "(63, 'Casaco', 'G', 1020)\n",
      "(60, 'Camisa', 'G', 1018)\n",
      "(9, 'Blusa', 'G', 998)\n"
     ]
    }
   ],
   "source": [
    "c.execute('''  \n",
    "SELECT\n",
    "    T1.idProduto,\n",
    "    T2.descNomeProduto,\n",
    "    T2.descTamanhoProduto,\n",
    "    SUM(T1.qtProduto) AS somaQtProduto\n",
    "\n",
    "FROM vendas AS T1\n",
    "\n",
    "LEFT JOIN produtos AS T2\n",
    "ON T1.idProduto = T2.idProduto\n",
    "\n",
    "GROUP BY T1.idProduto\n",
    "\n",
    "ORDER BY somaQtProduto DESC\n",
    "\n",
    "LIMIT 3\n",
    "          ''')\n",
    "\n",
    "for row in c.fetchall():\n",
    "    print (row)"
   ]
  },
  {
   "attachments": {},
   "cell_type": "markdown",
   "metadata": {},
   "source": [
    "#### Pergunta 3\n",
    "Quais as quantidades mensais vendidas do produto camisa de tamanho G no ano de 2019?"
   ]
  },
  {
   "cell_type": "code",
   "execution_count": 5,
   "metadata": {},
   "outputs": [
    {
     "name": "stdout",
     "output_type": "stream",
     "text": [
      "('01', 30)\n",
      "('02', 22)\n",
      "('03', 27)\n",
      "('04', 31)\n",
      "('05', 35)\n",
      "('06', 56)\n",
      "('07', 38)\n",
      "('08', 65)\n",
      "('09', 25)\n",
      "('10', 30)\n",
      "('11', 26)\n",
      "('12', 56)\n"
     ]
    }
   ],
   "source": [
    "c.execute('''  \n",
    "SELECT\n",
    "    strftime('%m', T1.dtVenda) AS dtMesVenda,\n",
    "    SUM(T1.qtProduto) AS somaQtProduto\n",
    "\n",
    "FROM vendas AS T1\n",
    "\n",
    "LEFT JOIN produtos AS T2\n",
    "ON T1.idProduto = T2.idProduto\n",
    "\n",
    "WHERE strftime('%Y', T1.dtVenda) = '2019'\n",
    "AND T2.descNomeProduto = 'Camisa' --  Produto mais vendido?\n",
    "AND T2.descTamanhoProduto = 'G'\n",
    "\n",
    "GROUP BY dtMesVenda\n",
    "          ''')\n",
    "\n",
    "for row in c.fetchall():\n",
    "    print (row)"
   ]
  },
  {
   "attachments": {},
   "cell_type": "markdown",
   "metadata": {},
   "source": [
    "#### Pergunta 4\n",
    "Qual a média da receita líquida mensal de vendas no ano de 2019?"
   ]
  },
  {
   "cell_type": "code",
   "execution_count": 6,
   "metadata": {},
   "outputs": [
    {
     "name": "stdout",
     "output_type": "stream",
     "text": [
      "(324240.933333332,)\n"
     ]
    }
   ],
   "source": [
    "c.execute('''  \n",
    "WITH receita_mes AS (\n",
    "\n",
    "    SELECT\n",
    "        strftime('%m', dtVenda) AS dtMesVenda,\n",
    "        SUM((vlPrecoUnitario*qtProduto)) AS vlSomaReceitaLiquida\n",
    "\n",
    "    FROM vendas\n",
    "\n",
    "    WHERE strftime('%Y', dtVenda) = '2019'\n",
    "\n",
    "    GROUP BY dtMesVenda\n",
    ")\n",
    "\n",
    "SELECT\n",
    "    AVG(vlSomaReceitaLiquida) AS vlMediaReceitaLiquida\n",
    "\n",
    "FROM receita_mes\n",
    "          ''')\n",
    "\n",
    "for row in c.fetchall():\n",
    "    print (row)"
   ]
  },
  {
   "attachments": {},
   "cell_type": "markdown",
   "metadata": {},
   "source": [
    "#### Pergunta 5\n",
    "Qual loja teve a maior receita líquida de vendas no ano de 2019?"
   ]
  },
  {
   "cell_type": "code",
   "execution_count": 7,
   "metadata": {},
   "outputs": [
    {
     "name": "stdout",
     "output_type": "stream",
     "text": [
      "(1, 'Florianópolis', 992059.6000000201)\n",
      "(2, 'Rio de Janeiro', 797032.6000000119)\n",
      "(3, 'Porto Alegre', 736108.8000000068)\n"
     ]
    }
   ],
   "source": [
    "c.execute('''  \n",
    "SELECT\n",
    "    T2.idLoja,\n",
    "    T2.descCidadeLoja,\n",
    "    SUM(T1.vlPrecoUnitario * T1.qtProduto) AS vlSomaReceitaLiquida\n",
    "\n",
    "FROM vendas AS T1\n",
    "\n",
    "LEFT JOIN lojas AS T2\n",
    "ON T1.idLoja = T2.idLoja\n",
    "\n",
    "WHERE strftime('%Y', T1.dtVenda) = '2019'\n",
    "\n",
    "GROUP BY T1.idLoja\n",
    "\n",
    "ORDER BY vlSomaReceitaLiquida DESC\n",
    "\n",
    "LIMIT 3\n",
    "          ''')\n",
    "\n",
    "for row in c.fetchall():\n",
    "    print (row)"
   ]
  }
 ],
 "metadata": {
  "kernelspec": {
   "display_name": "renv",
   "language": "python",
   "name": "python3"
  },
  "language_info": {
   "codemirror_mode": {
    "name": "ipython",
    "version": 3
   },
   "file_extension": ".py",
   "mimetype": "text/x-python",
   "name": "python",
   "nbconvert_exporter": "python",
   "pygments_lexer": "ipython3",
   "version": "3.8.13"
  },
  "orig_nbformat": 4,
  "vscode": {
   "interpreter": {
    "hash": "540d4f0a69165fb73fdf6458870b6d2a0e5cda8873f912b08d9841f330027f86"
   }
  }
 },
 "nbformat": 4,
 "nbformat_minor": 2
}
